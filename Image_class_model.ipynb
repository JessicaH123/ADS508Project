{
 "cells": [
  {
   "cell_type": "code",
   "execution_count": 21,
   "id": "e8e221ff-86b4-4977-b9c4-2f1a9e07b104",
   "metadata": {
    "tags": []
   },
   "outputs": [
    {
     "name": "stdout",
     "output_type": "stream",
     "text": [
      "sagemaker.config INFO - Not applying SDK defaults from location: /etc/xdg/sagemaker/config.yaml\n",
      "sagemaker.config INFO - Not applying SDK defaults from location: /root/.config/sagemaker/config.yaml\n",
      "sagemaker.config INFO - Not applying SDK defaults from location: /etc/xdg/sagemaker/config.yaml\n",
      "sagemaker.config INFO - Not applying SDK defaults from location: /root/.config/sagemaker/config.yaml\n",
      "sagemaker.config INFO - Not applying SDK defaults from location: /etc/xdg/sagemaker/config.yaml\n",
      "sagemaker.config INFO - Not applying SDK defaults from location: /root/.config/sagemaker/config.yaml\n"
     ]
    }
   ],
   "source": [
    "import sagemaker\n",
    "from sagemaker import get_execution_role\n",
    "from sagemaker import image_uris # getting docket image, which contains the algorithm \n",
    "from sagemaker.inputs import TrainingInput\n",
    "\n",
    "import io\n",
    "import boto3\n",
    "from datetime import datetime\n",
    "\n",
    "# Define the IAM role\n",
    "role = get_execution_role()\n",
    "\n",
    "# Specify the S3 bucket and prefix where your input data is stored\n",
    "sagemaker_session = sagemaker.Session()\n",
    "role = sagemaker.get_execution_role()\n",
    "region = boto3.Session().region_name\n",
    "sm = boto3.Session().client(service_name=\"sagemaker\", region_name=region)\n",
    "s3 = boto3.client('s3')\n"
   ]
  },
  {
   "cell_type": "code",
   "execution_count": 35,
   "id": "d16e214f-d2bf-4ca2-a475-e95d82f63e02",
   "metadata": {
    "tags": []
   },
   "outputs": [
    {
     "name": "stdout",
     "output_type": "stream",
     "text": [
      "train-mod5-2024-04-04-21-36-16\n"
     ]
    }
   ],
   "source": [
    "# Setting up the enviornment\n",
    "bucket = 'project508data'\n",
    "train_data_prefix = 'train'\n",
    "val_data_prefix = 'validation'\n",
    "train_data_uri = f's3://{bucket}/{train_data_prefix}/'\n",
    "\n",
    "# setting up paths for the model\n",
    "train_data = \"s3://{}/{}/\".format(bucket, train_data_prefix)\n",
    "val_data = \"s3://{}/{}/\".format(bucket, val_data_prefix)\n",
    "train_truth = \"s3://{}/{}/\".format(bucket, \"train_groundtruth\")\n",
    "val_truth = \"s3://{}/{}/\".format(bucket, \"validation_groundtruth\")\n",
    "\n",
    "n_classes = 3\n",
    "n_samples = 2700\n",
    "n_epochs = 10\n",
    "batch_size = 100 # after this number of images, update weights for the model\n",
    "train_instance_type = 'ml.p2.xlarge'\n",
    "job_name_prefix = \"train-mod5-\"\n",
    "s3_output_path = \"s3://{}/{}/{}\".format(bucket, train_data_prefix, \"model_output\")\n",
    "\n",
    "# getting timestamp\n",
    "timestamp = (\n",
    "    str(datetime.now().replace(microsecond=0)).replace(\" \", \"-\").replace(\":\", \"-\")\n",
    ")\n",
    "job_name = job_name_prefix + timestamp\n",
    "print(job_name)"
   ]
  },
  {
   "cell_type": "code",
   "execution_count": 23,
   "id": "5c629e0b-b488-4c36-ad34-c647e0408bce",
   "metadata": {
    "tags": []
   },
   "outputs": [
    {
     "name": "stderr",
     "output_type": "stream",
     "text": [
      "WARNING:sagemaker.image_uris:Defaulting to the only supported framework/algorithm version: 1. Ignoring framework/algorithm version: latest.\n",
      "INFO:sagemaker.image_uris:Ignoring unnecessary instance type: None.\n"
     ]
    },
    {
     "name": "stdout",
     "output_type": "stream",
     "text": [
      "811284229777.dkr.ecr.us-east-1.amazonaws.com/image-classification:1\n"
     ]
    }
   ],
   "source": [
    "# training the data using the sagemaker built in image classifier\n",
    "train_image_uri = sagemaker.image_uris.retrieve(\n",
    "    framework=\"image-classification\",\n",
    "    region=region,\n",
    "    image_scope=\"training\",\n",
    "    version=\"latest\",\n",
    ")\n",
    "print(train_image_uri)"
   ]
  },
  {
   "cell_type": "code",
   "execution_count": 24,
   "id": "898392b4-ea2e-4652-9bd7-0a9a6f1d3635",
   "metadata": {
    "tags": []
   },
   "outputs": [],
   "source": [
    "# Setting up the estimator\n",
    "\n",
    "autopilot_estimator = sagemaker.estimator.Estimator(\n",
    "    image_uri=train_image_uri,\n",
    "    role=role,\n",
    "    instance_count=1,\n",
    "    instance_type=train_instance_type,\n",
    "    volume_size=50,\n",
    "    max_run=360000,\n",
    "    input_mode=\"File\",\n",
    "    output_path=s3_output_path,\n",
    "    sagemaker_session=sagemaker_session,\n",
    ")\n",
    "\n"
   ]
  },
  {
   "cell_type": "markdown",
   "id": "0d2573d9-0b5c-4fb4-8ae5-ab7d0848bd68",
   "metadata": {},
   "source": [
    "Number of layers for the network. For data with large image size (for example, 224x224 - like ImageNet), we suggest selecting the number of layers from the set [18, 34, 50, 101, 152, 200]. For data with small image size (for example, 28x28 - like CIFAR), we suggest selecting the number of layers from the set [20, 32, 44, 56, 110]. The number of layers in each set is based on the ResNet paper. For transfer learning, the number of layers defines the architecture of base network and hence can only be selected from the set [18, 34, 50, 101, 152, 200]."
   ]
  },
  {
   "cell_type": "code",
   "execution_count": 25,
   "id": "6437c297-c359-4b89-8404-53e42ec879d4",
   "metadata": {
    "tags": []
   },
   "outputs": [],
   "source": [
    "# setting up the hyperparameters\n",
    "autopilot_estimator.set_hyperparameters(\n",
    "    num_classes= n_classes,  # update this\n",
    "    epochs= n_epochs,  # update this\n",
    "    num_training_samples=n_samples,  # update this\n",
    "    mini_batch_size=batch_size,  # update this\n",
    "    num_layers= 18,\n",
    "    use_pretrained_model=1,\n",
    "    image_shape=\"3,224,224\",\n",
    "    resize=256,\n",
    "    learning_rate=0.001,\n",
    "    use_weighted_loss=1,\n",
    "    augmentation_type=\"crop_color_transform\",\n",
    "    precision_dtype=\"float32\",\n",
    "    multi_label=0,\n",
    ")"
   ]
  },
  {
   "cell_type": "code",
   "execution_count": 26,
   "id": "92593ab6-8176-4e58-acd7-f55cd1fe47d8",
   "metadata": {
    "tags": []
   },
   "outputs": [],
   "source": [
    "train_imgs = sagemaker.inputs.TrainingInput(\n",
    "    train_data,\n",
    "    distribution=\"FullyReplicated\",\n",
    "    content_type=\"application/jpeg\",\n",
    "    s3_data_type=\"S3Prefix\",\n",
    ")\n",
    "\n",
    "val_imgs = sagemaker.inputs.TrainingInput(\n",
    "    val_data,\n",
    "    distribution=\"FullyReplicated\",\n",
    "    content_type=\"application/jpeg\",\n",
    "    s3_data_type=\"S3Prefix\",\n",
    ")\n",
    "\n",
    "\n",
    "train_tru = sagemaker.inputs.TrainingInput(\n",
    "    train_truth,\n",
    "    distribution=\"FullyReplicated\",\n",
    "    content_type=\"text/plain\",\n",
    "    s3_data_type=\"S3Prefix\",\n",
    ")\n",
    "\n",
    "val_tru = sagemaker.inputs.TrainingInput(\n",
    "    val_truth,\n",
    "    distribution=\"FullyReplicated\",\n",
    "    content_type=\"text/plain\",\n",
    "    s3_data_type=\"S3Prefix\",\n",
    ")\n",
    "\n",
    "data_channels = {\n",
    "    \"train\": train_imgs,\n",
    "    \"validation\": val_imgs,\n",
    "    \"train_lst\": train_tru,\n",
    "    \"validation_lst\": val_tru,\n",
    "}\n",
    "    "
   ]
  },
  {
   "cell_type": "code",
   "execution_count": 27,
   "id": "9045f0be-d3d1-4e8e-b09b-a885adaa759a",
   "metadata": {
    "tags": []
   },
   "outputs": [
    {
     "name": "stdout",
     "output_type": "stream",
     "text": [
      "train-mod2-2024-04-04-20-36-18\n"
     ]
    }
   ],
   "source": [
    "timestamp = (\n",
    "    str(datetime.now().replace(microsecond=0)).replace(\" \", \"-\").replace(\":\", \"-\")\n",
    ")\n",
    "job_name = job_name_prefix + timestamp\n",
    "print(job_name)"
   ]
  },
  {
   "cell_type": "code",
   "execution_count": 28,
   "id": "bf151b5c-3689-40f4-97dc-d5b9f9076090",
   "metadata": {
    "tags": []
   },
   "outputs": [
    {
     "data": {
      "text/plain": [
       "<sagemaker.inputs.TrainingInput at 0x7f35ff81d3c0>"
      ]
     },
     "execution_count": 28,
     "metadata": {},
     "output_type": "execute_result"
    }
   ],
   "source": [
    "train_tru"
   ]
  },
  {
   "cell_type": "code",
   "execution_count": 36,
   "id": "87803db0-0c93-4697-9134-e5386b419163",
   "metadata": {
    "tags": []
   },
   "outputs": [
    {
     "name": "stderr",
     "output_type": "stream",
     "text": [
      "INFO:sagemaker:Creating training-job with name: train-mod5-2024-04-04-21-36-16\n"
     ]
    },
    {
     "name": "stdout",
     "output_type": "stream",
     "text": [
      "2024-04-04 21:36:20 Starting - Starting the training job...\n",
      "2024-04-04 21:36:47 Starting - Preparing the instances for training......\n",
      "2024-04-04 21:37:23 Downloading - Downloading input data...\n",
      "2024-04-04 21:38:03 Downloading - Downloading the training image........................\n",
      "2024-04-04 21:41:59 Training - Training image download completed. Training in progress.....\u001b[34mDocker entrypoint called with argument(s): train\u001b[0m\n",
      "\u001b[34mRunning default environment configuration script\u001b[0m\n",
      "\u001b[34mNvidia gpu devices, drivers and cuda toolkit versions (only available on hosts with GPU):\u001b[0m\n",
      "\u001b[34mThu Apr  4 21:42:48 2024       \u001b[0m\n",
      "\u001b[34m+-----------------------------------------------------------------------------+\u001b[0m\n",
      "\u001b[34m| NVIDIA-SMI 470.57.02    Driver Version: 470.57.02    CUDA Version: 11.4     |\u001b[0m\n",
      "\u001b[34m|-------------------------------+----------------------+----------------------+\u001b[0m\n",
      "\u001b[34m| GPU  Name        Persistence-M| Bus-Id        Disp.A | Volatile Uncorr. ECC |\u001b[0m\n",
      "\u001b[34m| Fan  Temp  Perf  Pwr:Usage/Cap|         Memory-Usage | GPU-Util  Compute M. |\u001b[0m\n",
      "\u001b[34m|                               |                      |               MIG M. |\u001b[0m\n",
      "\u001b[34m|===============================+======================+======================|\u001b[0m\n",
      "\u001b[34m|   0  Tesla K80           On   | 00000000:00:1E.0 Off |                    0 |\u001b[0m\n",
      "\u001b[34m| N/A   23C    P8    25W / 149W |      0MiB / 11441MiB |      0%      Default |\u001b[0m\n",
      "\u001b[34m|                               |                      |                  N/A |\u001b[0m\n",
      "\u001b[34m+-------------------------------+----------------------+----------------------+\n",
      "                                                                               \u001b[0m\n",
      "\u001b[34m+-----------------------------------------------------------------------------+\u001b[0m\n",
      "\u001b[34m| Processes:                                                                  |\u001b[0m\n",
      "\u001b[34m|  GPU   GI   CI        PID   Type   Process name                  GPU Memory |\u001b[0m\n",
      "\u001b[34m|        ID   ID                                                   Usage      |\u001b[0m\n",
      "\u001b[34m|=============================================================================|\u001b[0m\n",
      "\u001b[34m|  No running processes found                                                 |\u001b[0m\n",
      "\u001b[34m+-----------------------------------------------------------------------------+\u001b[0m\n",
      "\u001b[34mChecking for nvidia driver and cuda compatibility.\u001b[0m\n",
      "\u001b[34mCUDA Compatibility driver provided.\u001b[0m\n",
      "\u001b[34mProceeding with compatibility check between driver, cuda-toolkit and cuda-compat.\u001b[0m\n",
      "\u001b[34mDetected cuda-toolkit version: 11.1.\u001b[0m\n",
      "\u001b[34mDetected cuda-compat version: 455.32.00.\u001b[0m\n",
      "\u001b[34mDetected Nvidia driver version: 470.57.02.\u001b[0m\n",
      "\u001b[34mNvidia driver compatible with cuda-toolkit. Disabling cuda-compat.\u001b[0m\n",
      "\u001b[34m/opt/amazon/lib/python3.8/site-packages/mxnet/model.py:97: SyntaxWarning: \"is\" with a literal. Did you mean \"==\"?\n",
      "  if num_device is 1 and 'dist' not in kvstore:\u001b[0m\n",
      "\u001b[34m[04/04/2024 21:42:52 INFO 139881002702656] Reading default configuration from /opt/amazon/lib/python3.8/site-packages/image_classification/default-input.json: {'use_pretrained_model': 0, 'num_layers': 152, 'epochs': 30, 'learning_rate': 0.1, 'lr_scheduler_factor': 0.1, 'optimizer': 'sgd', 'momentum': 0, 'weight_decay': 0.0001, 'beta_1': 0.9, 'beta_2': 0.999, 'eps': 1e-08, 'gamma': 0.9, 'mini_batch_size': 32, 'image_shape': '3,224,224', 'precision_dtype': 'float32'}\u001b[0m\n",
      "\u001b[34m[04/04/2024 21:42:52 INFO 139881002702656] Merging with provided configuration from /opt/ml/input/config/hyperparameters.json: {'augmentation_type': 'crop_color_transform', 'epochs': '10', 'image_shape': '3,224,224', 'learning_rate': '0.001', 'mini_batch_size': '100', 'multi_label': '0', 'num_classes': '3', 'num_layers': '18', 'num_training_samples': '2700', 'precision_dtype': 'float32', 'resize': '256', 'use_pretrained_model': '1', 'use_weighted_loss': '1'}\u001b[0m\n",
      "\u001b[34m[04/04/2024 21:42:52 INFO 139881002702656] Final configuration: {'use_pretrained_model': '1', 'num_layers': '18', 'epochs': '10', 'learning_rate': '0.001', 'lr_scheduler_factor': 0.1, 'optimizer': 'sgd', 'momentum': 0, 'weight_decay': 0.0001, 'beta_1': 0.9, 'beta_2': 0.999, 'eps': 1e-08, 'gamma': 0.9, 'mini_batch_size': '100', 'image_shape': '3,224,224', 'precision_dtype': 'float32', 'augmentation_type': 'crop_color_transform', 'multi_label': '0', 'num_classes': '3', 'num_training_samples': '2700', 'resize': '256', 'use_weighted_loss': '1'}\u001b[0m\n",
      "\u001b[34m[04/04/2024 21:42:52 WARNING 139881002702656] use_weighted_loss is only used for multi-label training. Ignoring the parameter.\u001b[0m\n",
      "\u001b[34m[04/04/2024 21:42:52 INFO 139881002702656] Searching for .lst files in /opt/ml/input/data/train_lst.\u001b[0m\n",
      "\u001b[34m[04/04/2024 21:42:52 INFO 139881002702656] Creating record files for train_truth.lst\u001b[0m\n",
      "\u001b[34m[04/04/2024 21:43:15 INFO 139881002702656] Done creating record files...\u001b[0m\n",
      "\u001b[34m[04/04/2024 21:43:15 INFO 139881002702656] Searching for .lst files in /opt/ml/input/data/validation_lst.\u001b[0m\n",
      "\u001b[34m[04/04/2024 21:43:15 INFO 139881002702656] Creating record files for validation_truth.lst\u001b[0m\n",
      "\u001b[34m[04/04/2024 21:43:16 INFO 139881002702656] Done creating record files...\u001b[0m\n",
      "\u001b[34m[04/04/2024 21:43:16 INFO 139881002702656] use_pretrained_model: 1\u001b[0m\n",
      "\u001b[34m[04/04/2024 21:43:16 INFO 139881002702656] multi_label: 0\u001b[0m\n",
      "\u001b[34m[04/04/2024 21:43:16 INFO 139881002702656] Using pretrained model for initializing weights and transfer learning.\u001b[0m\n",
      "\u001b[34m[04/04/2024 21:43:16 INFO 139881002702656] ---- Parameters ----\u001b[0m\n",
      "\u001b[34m[04/04/2024 21:43:16 INFO 139881002702656] num_layers: 18\u001b[0m\n",
      "\u001b[34m[04/04/2024 21:43:16 INFO 139881002702656] data type: <class 'numpy.float32'>\u001b[0m\n",
      "\u001b[34m[04/04/2024 21:43:16 INFO 139881002702656] epochs: 10\u001b[0m\n",
      "\u001b[34m[04/04/2024 21:43:16 INFO 139881002702656] image resize size: 256\u001b[0m\n",
      "\u001b[34m[04/04/2024 21:43:16 INFO 139881002702656] optimizer: sgd\u001b[0m\n",
      "\u001b[34m[04/04/2024 21:43:16 INFO 139881002702656] momentum: 0.9\u001b[0m\n",
      "\u001b[34m[04/04/2024 21:43:16 INFO 139881002702656] weight_decay: 0.0001\u001b[0m\n",
      "\u001b[34m[04/04/2024 21:43:16 INFO 139881002702656] learning_rate: 0.001\u001b[0m\n",
      "\u001b[34m[04/04/2024 21:43:16 INFO 139881002702656] num_training_samples: 2700\u001b[0m\n",
      "\u001b[34m[04/04/2024 21:43:16 INFO 139881002702656] mini_batch_size: 100\u001b[0m\n",
      "\u001b[34m[04/04/2024 21:43:16 INFO 139881002702656] image_shape: 3,224,224\u001b[0m\n",
      "\u001b[34m[04/04/2024 21:43:16 INFO 139881002702656] num_classes: 3\u001b[0m\n",
      "\u001b[34m[04/04/2024 21:43:16 INFO 139881002702656] augmentation_type: crop_color_transform\u001b[0m\n",
      "\u001b[34m[04/04/2024 21:43:16 INFO 139881002702656] kv_store: device\u001b[0m\n",
      "\u001b[34m[04/04/2024 21:43:16 INFO 139881002702656] checkpoint_frequency not set, will store the best model\u001b[0m\n",
      "\u001b[34m[04/04/2024 21:43:16 INFO 139881002702656] --------------------\u001b[0m\n",
      "\u001b[34m[21:43:16] /opt/brazil-pkg-cache/packages/AIAlgorithmsMXNet/AIAlgorithmsMXNet-1.4.x_ecl_Cuda_11.1.x.379.0/AL2_x86_64/generic-flavor/src/src/nnvm/legacy_json_util.cc:209: Loading symbol saved by previous version v0.8.0. Attempting to upgrade...\u001b[0m\n",
      "\u001b[34m[21:43:16] /opt/brazil-pkg-cache/packages/AIAlgorithmsMXNet/AIAlgorithmsMXNet-1.4.x_ecl_Cuda_11.1.x.379.0/AL2_x86_64/generic-flavor/src/src/nnvm/legacy_json_util.cc:217: Symbol successfully upgraded!\u001b[0m\n",
      "\u001b[34m/opt/amazon/python3.8/lib/python3.8/subprocess.py:848: RuntimeWarning: line buffering (buffering=1) isn't supported in binary mode, the default buffer size will be used\n",
      "  self.stdout = io.open(c2pread, 'rb', bufsize)\u001b[0m\n",
      "\u001b[34m[04/04/2024 21:43:16 INFO 139881002702656] Setting number of threads: 3\u001b[0m\n",
      "\u001b[34m[21:43:24] /opt/brazil-pkg-cache/packages/AIAlgorithmsMXNet/AIAlgorithmsMXNet-1.4.x_ecl_Cuda_11.1.x.379.0/AL2_x86_64/generic-flavor/src/src/operator/nn/./cudnn/./cudnn_algoreg-inl.h:97: Running performance tests to find the best convolution algorithm, this can take a while... (setting env variable MXNET_CUDNN_AUTOTUNE_DEFAULT to 0 to disable)\u001b[0m\n",
      "\u001b[34m[04/04/2024 21:43:42 INFO 139881002702656] Epoch[0] Batch [20]#011Speed: 100.753 samples/sec#011accuracy=0.395714\u001b[0m\n",
      "\u001b[34m[04/04/2024 21:43:46 INFO 139881002702656] Epoch[0] Train-accuracy=0.375556\u001b[0m\n",
      "\u001b[34m[04/04/2024 21:43:46 INFO 139881002702656] Epoch[0] Time cost=23.639\u001b[0m\n",
      "\u001b[34m[04/04/2024 21:43:47 INFO 139881002702656] Epoch[0] Validation-accuracy=0.420000\u001b[0m\n",
      "\u001b[34m[04/04/2024 21:43:47 INFO 139881002702656] Storing the best model with validation accuracy: 0.420000\u001b[0m\n",
      "\u001b[34m[04/04/2024 21:43:47 INFO 139881002702656] Saved checkpoint to \"/opt/ml/model/image-classification-0001.params\"\u001b[0m\n",
      "\u001b[34m[04/04/2024 21:44:00 INFO 139881002702656] Epoch[1] Batch [20]#011Speed: 154.877 samples/sec#011accuracy=0.053810\u001b[0m\n",
      "\u001b[34m[04/04/2024 21:44:04 INFO 139881002702656] Epoch[1] Train-accuracy=0.042222\u001b[0m\n",
      "\u001b[34m[04/04/2024 21:44:04 INFO 139881002702656] Epoch[1] Time cost=16.774\u001b[0m\n",
      "\u001b[34m[04/04/2024 21:44:05 INFO 139881002702656] Epoch[1] Validation-accuracy=0.430000\u001b[0m\n",
      "\u001b[34m[04/04/2024 21:44:05 INFO 139881002702656] Storing the best model with validation accuracy: 0.430000\u001b[0m\n",
      "\u001b[34m[04/04/2024 21:44:06 INFO 139881002702656] Saved checkpoint to \"/opt/ml/model/image-classification-0002.params\"\u001b[0m\n",
      "\u001b[34m[04/04/2024 21:44:18 INFO 139881002702656] Epoch[2] Batch [20]#011Speed: 154.943 samples/sec#011accuracy=0.062381\u001b[0m\n",
      "\u001b[34m[04/04/2024 21:44:22 INFO 139881002702656] Epoch[2] Train-accuracy=0.082593\u001b[0m\n",
      "\u001b[34m[04/04/2024 21:44:22 INFO 139881002702656] Epoch[2] Time cost=16.701\u001b[0m\n",
      "\u001b[34m[04/04/2024 21:44:23 INFO 139881002702656] Epoch[2] Validation-accuracy=0.780000\u001b[0m\n",
      "\u001b[34m[04/04/2024 21:44:23 INFO 139881002702656] Storing the best model with validation accuracy: 0.780000\u001b[0m\n",
      "\u001b[34m[04/04/2024 21:44:23 INFO 139881002702656] Saved checkpoint to \"/opt/ml/model/image-classification-0003.params\"\u001b[0m\n",
      "\u001b[34m[04/04/2024 21:44:36 INFO 139881002702656] Epoch[3] Batch [20]#011Speed: 154.986 samples/sec#011accuracy=0.089524\u001b[0m\n",
      "\u001b[34m[04/04/2024 21:44:40 INFO 139881002702656] Epoch[3] Train-accuracy=0.074074\u001b[0m\n",
      "\u001b[34m[04/04/2024 21:44:40 INFO 139881002702656] Epoch[3] Time cost=16.699\u001b[0m\n",
      "\u001b[34m[04/04/2024 21:44:41 INFO 139881002702656] Epoch[3] Validation-accuracy=0.795000\u001b[0m\n",
      "\u001b[34m[04/04/2024 21:44:41 INFO 139881002702656] Storing the best model with validation accuracy: 0.795000\u001b[0m\n",
      "\u001b[34m[04/04/2024 21:44:41 INFO 139881002702656] Saved checkpoint to \"/opt/ml/model/image-classification-0004.params\"\u001b[0m\n",
      "\u001b[34m[04/04/2024 21:44:54 INFO 139881002702656] Epoch[4] Batch [20]#011Speed: 154.952 samples/sec#011accuracy=0.070476\u001b[0m\n",
      "\u001b[34m[04/04/2024 21:44:58 INFO 139881002702656] Epoch[4] Train-accuracy=0.094444\u001b[0m\n",
      "\u001b[34m[04/04/2024 21:44:58 INFO 139881002702656] Epoch[4] Time cost=16.695\u001b[0m\n",
      "\u001b[34m[04/04/2024 21:44:58 INFO 139881002702656] Epoch[4] Validation-accuracy=0.730000\u001b[0m\n",
      "\u001b[34m[04/04/2024 21:45:11 INFO 139881002702656] Epoch[5] Batch [20]#011Speed: 154.446 samples/sec#011accuracy=0.080952\u001b[0m\n",
      "\u001b[34m[04/04/2024 21:45:15 INFO 139881002702656] Epoch[5] Train-accuracy=0.066667\u001b[0m\n",
      "\u001b[34m[04/04/2024 21:45:15 INFO 139881002702656] Epoch[5] Time cost=16.738\u001b[0m\n",
      "\u001b[34m[04/04/2024 21:45:16 INFO 139881002702656] Epoch[5] Validation-accuracy=0.790000\u001b[0m\n",
      "\u001b[34m[04/04/2024 21:45:29 INFO 139881002702656] Epoch[6] Batch [20]#011Speed: 155.042 samples/sec#011accuracy=0.126667\u001b[0m\n",
      "\u001b[34m[04/04/2024 21:45:33 INFO 139881002702656] Epoch[6] Train-accuracy=0.115556\u001b[0m\n",
      "\u001b[34m[04/04/2024 21:45:33 INFO 139881002702656] Epoch[6] Time cost=16.697\u001b[0m\n",
      "\u001b[34m[04/04/2024 21:45:34 INFO 139881002702656] Epoch[6] Validation-accuracy=0.820000\u001b[0m\n",
      "\u001b[34m[04/04/2024 21:45:34 INFO 139881002702656] Storing the best model with validation accuracy: 0.820000\u001b[0m\n",
      "\u001b[34m[04/04/2024 21:45:34 INFO 139881002702656] Saved checkpoint to \"/opt/ml/model/image-classification-0007.params\"\u001b[0m\n",
      "\u001b[34m[04/04/2024 21:45:47 INFO 139881002702656] Epoch[7] Batch [20]#011Speed: 155.058 samples/sec#011accuracy=0.091905\u001b[0m\n",
      "\u001b[34m[04/04/2024 21:45:51 INFO 139881002702656] Epoch[7] Train-accuracy=0.080741\u001b[0m\n",
      "\u001b[34m[04/04/2024 21:45:51 INFO 139881002702656] Epoch[7] Time cost=16.693\u001b[0m\n",
      "\u001b[34m[04/04/2024 21:45:51 INFO 139881002702656] Epoch[7] Validation-accuracy=0.585000\u001b[0m\n",
      "\u001b[34m[04/04/2024 21:46:05 INFO 139881002702656] Epoch[8] Batch [20]#011Speed: 154.948 samples/sec#011accuracy=0.050000\u001b[0m\n",
      "\u001b[34m[04/04/2024 21:46:08 INFO 139881002702656] Epoch[8] Train-accuracy=0.047407\u001b[0m\n",
      "\u001b[34m[04/04/2024 21:46:08 INFO 139881002702656] Epoch[8] Time cost=16.704\u001b[0m\n",
      "\u001b[34m[04/04/2024 21:46:09 INFO 139881002702656] Epoch[8] Validation-accuracy=0.660000\u001b[0m\n",
      "\u001b[34m[04/04/2024 21:46:22 INFO 139881002702656] Epoch[9] Batch [20]#011Speed: 154.873 samples/sec#011accuracy=0.190952\u001b[0m\n",
      "\u001b[34m[04/04/2024 21:46:26 INFO 139881002702656] Epoch[9] Train-accuracy=0.163704\u001b[0m\n",
      "\u001b[34m[04/04/2024 21:46:26 INFO 139881002702656] Epoch[9] Time cost=16.721\u001b[0m\n",
      "\u001b[34m[04/04/2024 21:46:27 INFO 139881002702656] Epoch[9] Validation-accuracy=0.675000\u001b[0m\n",
      "\n",
      "2024-04-04 21:46:49 Uploading - Uploading generated training model\n",
      "2024-04-04 21:46:49 Completed - Training job completed\n",
      "Training seconds: 566\n",
      "Billable seconds: 566\n"
     ]
    }
   ],
   "source": [
    "autopilot_estimator.fit(inputs=data_channels, logs=True, job_name=job_name)"
   ]
  },
  {
   "cell_type": "markdown",
   "id": "0f7af4ed-a3b9-49cc-9ace-29cc5883d1a1",
   "metadata": {},
   "source": [
    "## Deploying final model so we can run inference"
   ]
  },
  {
   "cell_type": "code",
   "execution_count": 39,
   "id": "c44a632c-a86f-4a4b-ba2d-1b523fc5357e",
   "metadata": {},
   "outputs": [
    {
     "name": "stdout",
     "output_type": "stream",
     "text": [
      "sagemaker.config INFO - Not applying SDK defaults from location: /etc/xdg/sagemaker/config.yaml\n",
      "sagemaker.config INFO - Not applying SDK defaults from location: /root/.config/sagemaker/config.yaml\n",
      "sagemaker.config INFO - Not applying SDK defaults from location: /etc/xdg/sagemaker/config.yaml\n",
      "sagemaker.config INFO - Not applying SDK defaults from location: /root/.config/sagemaker/config.yaml\n"
     ]
    },
    {
     "name": "stderr",
     "output_type": "stream",
     "text": [
      "INFO:sagemaker:Creating model with name: image-classification-2024-04-04-22-03-42-351\n",
      "INFO:sagemaker:Creating endpoint-config with name Final-model-for-test-data\n",
      "INFO:sagemaker:Creating endpoint with name Final-model-for-test-data\n"
     ]
    },
    {
     "name": "stdout",
     "output_type": "stream",
     "text": [
      "--------------!"
     ]
    }
   ],
   "source": [
    "import boto3\n",
    "import sagemaker\n",
    "from sagemaker.model import Model\n",
    "from sagemaker.predictor import Predictor\n",
    "\n",
    "# Initialize SageMaker session and role\n",
    "sagemaker_session = sagemaker.Session()\n",
    "role = sagemaker.get_execution_role()\n",
    "\n",
    "# Specify the name of the training job\n",
    "training_job_name = 'train-mod5-2024-04-04-21-36-16'\n",
    "\n",
    "# Specify the S3 location where model artifacts are stored\n",
    "model_s3_path = sagemaker_session.describe_training_job(training_job_name)['ModelArtifacts']['S3ModelArtifacts']\n",
    "\n",
    "# Create a SageMaker Model object\n",
    "model = Model(\n",
    "    model_data=model_s3_path,\n",
    "    role=role,\n",
    "    image_uri='811284229777.dkr.ecr.us-east-1.amazonaws.com/image-classification:1',  # Specify the container image URI for your model\n",
    "    predictor_cls=sagemaker.predictor.Predictor,\n",
    "    sagemaker_session=sagemaker_session\n",
    ")\n",
    "\n",
    "# Deploy the model as an endpoint\n",
    "predictor = model.deploy(\n",
    "    initial_instance_count=1,  # Number of instances to deploy\n",
    "    instance_type='ml.m4.xlarge',  # Instance type for deployment\n",
    "    endpoint_name='Final-model-for-test-data'  # Specify the name for your endpoint\n",
    ")"
   ]
  },
  {
   "cell_type": "markdown",
   "id": "1bc90f21-c3b9-4ea9-9cb1-685937409ba2",
   "metadata": {},
   "source": [
    "## Running model on test data"
   ]
  },
  {
   "cell_type": "code",
   "execution_count": 50,
   "id": "425be0d6-42ac-443d-8cc0-631a3895b6c4",
   "metadata": {
    "tags": []
   },
   "outputs": [
    {
     "name": "stdout",
     "output_type": "stream",
     "text": [
      "sagemaker.config INFO - Not applying SDK defaults from location: /etc/xdg/sagemaker/config.yaml\n",
      "sagemaker.config INFO - Not applying SDK defaults from location: /root/.config/sagemaker/config.yaml\n",
      "sagemaker.config INFO - Not applying SDK defaults from location: /etc/xdg/sagemaker/config.yaml\n",
      "sagemaker.config INFO - Not applying SDK defaults from location: /root/.config/sagemaker/config.yaml\n"
     ]
    }
   ],
   "source": [
    "import boto3\n",
    "import sagemaker\n",
    "\n",
    "# Initialize SageMaker session\n",
    "session = sagemaker.Session()\n",
    "\n",
    "# Specify the endpoint name\n",
    "endpoint_name = 'Final-model-for-test-data'\n",
    "\n",
    "# Specify the S3 path to your data\n",
    "data_uri = 's3://project508data/test/x_1.jpeg'\n",
    "\n",
    "# Initialize the predictor\n",
    "predictor = sagemaker.predictor.Predictor(endpoint_name)\n",
    "\n"
   ]
  },
  {
   "cell_type": "code",
   "execution_count": 51,
   "id": "4b8ada34-7572-4745-8372-95477a24e934",
   "metadata": {
    "tags": []
   },
   "outputs": [
    {
     "name": "stdout",
     "output_type": "stream",
     "text": [
      "b'[0.5426226258277893, 0.12491381913423538, 0.3324635326862335]'\n"
     ]
    }
   ],
   "source": [
    "print(result)"
   ]
  },
  {
   "cell_type": "code",
   "execution_count": 49,
   "id": "a62f16c6-fbde-42b5-8ac0-922c01508de8",
   "metadata": {
    "tags": []
   },
   "outputs": [],
   "source": [
    "import boto3\n",
    "import json\n",
    "\n",
    "# Initialize Boto3 S3 client\n",
    "s3 = boto3.client('s3')\n",
    "\n",
    "# Specify the S3 bucket and folder path containing the image\n",
    "bucket_name = 'project508data'\n",
    "folder_path = 'test/'\n",
    "\n",
    "# Specify the image file name\n",
    "image_file_name = 'x_1.jpeg'\n",
    "\n",
    "# Download the image file from S3\n",
    "s3_object = s3.get_object(Bucket=bucket_name, Key=folder_path + image_file_name)\n",
    "image_bytes = s3_object['Body'].read()\n",
    "\n"
   ]
  },
  {
   "cell_type": "code",
   "execution_count": null,
   "id": "7c1e4c83-458b-4dc7-83c9-d934aec30b7a",
   "metadata": {
    "tags": []
   },
   "outputs": [],
   "source": [
    "import boto3\n",
    "import json\n",
    "import pandas as pd\n",
    "\n",
    "# Initialize Boto3 S3 client\n",
    "s3 = boto3.client('s3')\n",
    "\n",
    "# Specify the S3 bucket and folder path containing the images\n",
    "bucket_name = 'project508data'\n",
    "folder_path = 'test/'\n",
    "\n",
    "# Initialize an empty list to store the results\n",
    "results = []\n",
    "\n",
    "# Paginate through the objects in the specified folder\n",
    "paginator = s3.get_paginator('list_objects_v2')\n",
    "page_iterator = paginator.paginate(Bucket=bucket_name, Prefix=folder_path)\n",
    "\n",
    "# Iterate through each page of objects\n",
    "for page in page_iterator:\n",
    "    # Iterate through objects in the current page and process each image\n",
    "    for obj in page.get('Contents', [])[1:]:\n",
    "        # Extract the image file name from the object key\n",
    "        image_key = obj['Key']\n",
    "        \n",
    "        # Download the image file from S3\n",
    "        s3_object = s3.get_object(Bucket=bucket_name, Key=image_key)\n",
    "        image_bytes = s3_object['Body'].read()\n",
    "        \n",
    "        # Perform inference\n",
    "        result = predictor.predict(image_bytes, initial_args={'ContentType': 'image/jpeg'})\n",
    "        \n",
    "        # displaying in progress\n",
    "        print(f\"Processing image: {image_key}\")\n",
    "        \n",
    "        # Assuming you have the result of the processing in a variable called 'result'\n",
    "        # Replace this with your actual result from processing the image\n",
    "        result = {'Image': image_key, 'Result': result}\n",
    "        \n",
    "        # Append the result to the list\n",
    "        results.append(result)\n",
    "\n",
    "# Create a DataFrame from the results list\n",
    "results_df = pd.DataFrame(results)\n",
    "\n",
    "# Display the DataFrame with results\n",
    "print(results_df)"
   ]
  },
  {
   "cell_type": "code",
   "execution_count": 78,
   "id": "92fa1926-50de-4b83-87a1-3a1c5e1ebfdb",
   "metadata": {
    "tags": []
   },
   "outputs": [
    {
     "name": "stdout",
     "output_type": "stream",
     "text": [
      "     Prediction_1  Prediction_2  Prediction_3\n",
      "0        0.542623      0.124914      0.332464\n",
      "1        0.097182      0.070166      0.832652\n",
      "2        0.522068      0.021652      0.456280\n",
      "3        0.828095      0.000998      0.170907\n",
      "4        0.460717      0.013178      0.526105\n",
      "..            ...           ...           ...\n",
      "145      0.048304      0.513761      0.437935\n",
      "146      0.090151      0.576187      0.333663\n",
      "147      0.085937      0.529144      0.384919\n",
      "148      0.073800      0.754168      0.172032\n",
      "149      0.061862      0.754469      0.183669\n",
      "\n",
      "[150 rows x 3 columns]\n"
     ]
    }
   ],
   "source": [
    "# Split the predictions into three columns\n",
    "predictions_lst = results_df['Result']\n",
    "# Convert bytes-like objects to strings and split them into three columns\n",
    "predictions_df = pd.DataFrame([x.decode().split(\", \") for x in predictions_lst], \n",
    "                              columns=[\"Prediction_1\", \"Prediction_2\", \"Prediction_3\"])\n",
    "\n",
    "# Removing brackets within the cells\n",
    "# Remove brackets and whitespace\n",
    "predictions_df = predictions_df.map(lambda x: x.strip('[').strip(']').strip())\n",
    "\n",
    "# converting all columns to float\n",
    "predictions_df = predictions_df.astype(float)\n",
    "\n",
    "# Display the DataFrame\n",
    "print(predictions_df)"
   ]
  },
  {
   "cell_type": "code",
   "execution_count": 79,
   "id": "aa4a7b86-073c-468f-8776-141a677562d5",
   "metadata": {
    "tags": []
   },
   "outputs": [
    {
     "name": "stdout",
     "output_type": "stream",
     "text": [
      "     Prediction_1  Prediction_2  Prediction_3    Max_Column\n",
      "0        0.542623      0.124914      0.332464  Prediction_1\n",
      "1        0.097182      0.070166      0.832652  Prediction_3\n",
      "2        0.522068      0.021652      0.456280  Prediction_1\n",
      "3        0.828095      0.000998      0.170907  Prediction_1\n",
      "4        0.460717      0.013178      0.526105  Prediction_3\n",
      "..            ...           ...           ...           ...\n",
      "145      0.048304      0.513761      0.437935  Prediction_2\n",
      "146      0.090151      0.576187      0.333663  Prediction_2\n",
      "147      0.085937      0.529144      0.384919  Prediction_2\n",
      "148      0.073800      0.754168      0.172032  Prediction_2\n",
      "149      0.061862      0.754469      0.183669  Prediction_2\n",
      "\n",
      "[150 rows x 4 columns]\n"
     ]
    }
   ],
   "source": [
    "# Find column name with maximum value for each row\n",
    "predictions_df['Max_Column'] = predictions_df.idxmax(axis=1)\n",
    "\n",
    "# Display the DataFrame\n",
    "print(predictions_df)"
   ]
  },
  {
   "cell_type": "code",
   "execution_count": 80,
   "id": "ceb577f8-1481-4c6f-b568-aa41c1310947",
   "metadata": {
    "tags": []
   },
   "outputs": [
    {
     "name": "stdout",
     "output_type": "stream",
     "text": [
      "     Prediction_1  Prediction_2  Prediction_3    Max_Column  Predicted_labels\n",
      "0        0.542623      0.124914      0.332464  Prediction_1                 0\n",
      "1        0.097182      0.070166      0.832652  Prediction_3                 2\n",
      "2        0.522068      0.021652      0.456280  Prediction_1                 0\n",
      "3        0.828095      0.000998      0.170907  Prediction_1                 0\n",
      "4        0.460717      0.013178      0.526105  Prediction_3                 2\n",
      "..            ...           ...           ...           ...               ...\n",
      "145      0.048304      0.513761      0.437935  Prediction_2                 1\n",
      "146      0.090151      0.576187      0.333663  Prediction_2                 1\n",
      "147      0.085937      0.529144      0.384919  Prediction_2                 1\n",
      "148      0.073800      0.754168      0.172032  Prediction_2                 1\n",
      "149      0.061862      0.754469      0.183669  Prediction_2                 1\n",
      "\n",
      "[150 rows x 5 columns]\n"
     ]
    }
   ],
   "source": [
    "# Define a function to map column names to integers\n",
    "def map_column_to_integer(column_name):\n",
    "    if column_name == 'Prediction_1':\n",
    "        return 0\n",
    "    elif column_name == 'Prediction_2':\n",
    "        return 1\n",
    "    elif column_name == 'Prediction_3':\n",
    "        return 2\n",
    "    else:\n",
    "        return None\n",
    "\n",
    "# Apply the function to create a new column with integers\n",
    "predictions_df['Predicted_labels'] = predictions_df['Max_Column'].apply(lambda x: map_column_to_integer(x))\n",
    "\n",
    "# Display the DataFrame\n",
    "print(predictions_df)"
   ]
  },
  {
   "cell_type": "code",
   "execution_count": 83,
   "id": "5403e56c-c5bb-4f32-a0d4-d405e28b4851",
   "metadata": {
    "tags": []
   },
   "outputs": [
    {
     "name": "stdout",
     "output_type": "stream",
     "text": [
      "     Label   Filename\n",
      "0        0   x_1.jpeg\n",
      "1        0  x_10.jpeg\n",
      "2        0  x_11.jpeg\n",
      "3        0  x_12.jpeg\n",
      "4        0  x_13.jpeg\n",
      "..     ...        ...\n",
      "145      1  z_51.jpeg\n",
      "146      1   z_6.jpeg\n",
      "147      1   z_7.jpeg\n",
      "148      1   z_8.jpeg\n",
      "149      1   z_9.jpeg\n",
      "\n",
      "[150 rows x 2 columns]\n"
     ]
    }
   ],
   "source": [
    "%store -r test_df\n",
    "print(test_df)"
   ]
  },
  {
   "cell_type": "code",
   "execution_count": 86,
   "id": "41a0dd17-aa3f-4077-bbb4-fcdbcdb1b07d",
   "metadata": {
    "tags": []
   },
   "outputs": [
    {
     "name": "stdout",
     "output_type": "stream",
     "text": [
      "      Filename  Observed_labels  Predicted_labels\n",
      "0     x_1.jpeg                0                 0\n",
      "1    x_10.jpeg                0                 2\n",
      "2    x_11.jpeg                0                 0\n",
      "3    x_12.jpeg                0                 0\n",
      "4    x_13.jpeg                0                 2\n",
      "..         ...              ...               ...\n",
      "145  z_51.jpeg                1                 1\n",
      "146   z_6.jpeg                1                 1\n",
      "147   z_7.jpeg                1                 1\n",
      "148   z_8.jpeg                1                 1\n",
      "149   z_9.jpeg                1                 1\n",
      "\n",
      "[150 rows x 3 columns]\n"
     ]
    }
   ],
   "source": [
    "# Extract columns from df1 and df2\n",
    "col_1 = test_df[['Filename','Label']]  # Extracting column 'A' from df1\n",
    "col_2 = predictions_df['Predicted_labels']  # Extracting column 'C' from df2\n",
    "\n",
    "# Concatenate columns into a new DataFrame\n",
    "final_df = pd.concat([col_1, col_2], axis=1)\n",
    "final_df = final_df.rename(columns={'Label': 'Observed_labels'})\n",
    "# Display the new DataFrame\n",
    "print(final_df)"
   ]
  },
  {
   "cell_type": "code",
   "execution_count": 89,
   "id": "bf6cde80-09e7-4dcd-9c81-209084626665",
   "metadata": {
    "tags": []
   },
   "outputs": [
    {
     "name": "stdout",
     "output_type": "stream",
     "text": [
      "F1 Score: 0.7215796237527518 Accuracy: 0.7133333333333334\n"
     ]
    }
   ],
   "source": [
    "from sklearn.metrics import f1_score\n",
    "from sklearn.metrics import accuracy_score\n",
    "\n",
    "# Assuming df is your DataFrame containing observed and predicted labels\n",
    "# Make sure your DataFrame has columns for observed labels ('observed') and predicted labels ('predicted')\n",
    "\n",
    "# Extract observed and predicted labels from the DataFrame\n",
    "observed_labels = final_df['Observed_labels']\n",
    "predicted_labels = final_df['Predicted_labels']\n",
    "\n",
    "# Calculate the F1 score\n",
    "f1 = f1_score(observed_labels, predicted_labels, average='weighted')\n",
    "accuracy = accuracy_score(observed_labels, predicted_labels)\n",
    "# Print the F1 score\n",
    "print(\"F1 Score:\", f1, \"Accuracy:\", accuracy)"
   ]
  }
 ],
 "metadata": {
  "availableInstances": [
   {
    "_defaultOrder": 0,
    "_isFastLaunch": true,
    "category": "General purpose",
    "gpuNum": 0,
    "hideHardwareSpecs": false,
    "memoryGiB": 4,
    "name": "ml.t3.medium",
    "vcpuNum": 2
   },
   {
    "_defaultOrder": 1,
    "_isFastLaunch": false,
    "category": "General purpose",
    "gpuNum": 0,
    "hideHardwareSpecs": false,
    "memoryGiB": 8,
    "name": "ml.t3.large",
    "vcpuNum": 2
   },
   {
    "_defaultOrder": 2,
    "_isFastLaunch": false,
    "category": "General purpose",
    "gpuNum": 0,
    "hideHardwareSpecs": false,
    "memoryGiB": 16,
    "name": "ml.t3.xlarge",
    "vcpuNum": 4
   },
   {
    "_defaultOrder": 3,
    "_isFastLaunch": false,
    "category": "General purpose",
    "gpuNum": 0,
    "hideHardwareSpecs": false,
    "memoryGiB": 32,
    "name": "ml.t3.2xlarge",
    "vcpuNum": 8
   },
   {
    "_defaultOrder": 4,
    "_isFastLaunch": true,
    "category": "General purpose",
    "gpuNum": 0,
    "hideHardwareSpecs": false,
    "memoryGiB": 8,
    "name": "ml.m5.large",
    "vcpuNum": 2
   },
   {
    "_defaultOrder": 5,
    "_isFastLaunch": false,
    "category": "General purpose",
    "gpuNum": 0,
    "hideHardwareSpecs": false,
    "memoryGiB": 16,
    "name": "ml.m5.xlarge",
    "vcpuNum": 4
   },
   {
    "_defaultOrder": 6,
    "_isFastLaunch": false,
    "category": "General purpose",
    "gpuNum": 0,
    "hideHardwareSpecs": false,
    "memoryGiB": 32,
    "name": "ml.m5.2xlarge",
    "vcpuNum": 8
   },
   {
    "_defaultOrder": 7,
    "_isFastLaunch": false,
    "category": "General purpose",
    "gpuNum": 0,
    "hideHardwareSpecs": false,
    "memoryGiB": 64,
    "name": "ml.m5.4xlarge",
    "vcpuNum": 16
   },
   {
    "_defaultOrder": 8,
    "_isFastLaunch": false,
    "category": "General purpose",
    "gpuNum": 0,
    "hideHardwareSpecs": false,
    "memoryGiB": 128,
    "name": "ml.m5.8xlarge",
    "vcpuNum": 32
   },
   {
    "_defaultOrder": 9,
    "_isFastLaunch": false,
    "category": "General purpose",
    "gpuNum": 0,
    "hideHardwareSpecs": false,
    "memoryGiB": 192,
    "name": "ml.m5.12xlarge",
    "vcpuNum": 48
   },
   {
    "_defaultOrder": 10,
    "_isFastLaunch": false,
    "category": "General purpose",
    "gpuNum": 0,
    "hideHardwareSpecs": false,
    "memoryGiB": 256,
    "name": "ml.m5.16xlarge",
    "vcpuNum": 64
   },
   {
    "_defaultOrder": 11,
    "_isFastLaunch": false,
    "category": "General purpose",
    "gpuNum": 0,
    "hideHardwareSpecs": false,
    "memoryGiB": 384,
    "name": "ml.m5.24xlarge",
    "vcpuNum": 96
   },
   {
    "_defaultOrder": 12,
    "_isFastLaunch": false,
    "category": "General purpose",
    "gpuNum": 0,
    "hideHardwareSpecs": false,
    "memoryGiB": 8,
    "name": "ml.m5d.large",
    "vcpuNum": 2
   },
   {
    "_defaultOrder": 13,
    "_isFastLaunch": false,
    "category": "General purpose",
    "gpuNum": 0,
    "hideHardwareSpecs": false,
    "memoryGiB": 16,
    "name": "ml.m5d.xlarge",
    "vcpuNum": 4
   },
   {
    "_defaultOrder": 14,
    "_isFastLaunch": false,
    "category": "General purpose",
    "gpuNum": 0,
    "hideHardwareSpecs": false,
    "memoryGiB": 32,
    "name": "ml.m5d.2xlarge",
    "vcpuNum": 8
   },
   {
    "_defaultOrder": 15,
    "_isFastLaunch": false,
    "category": "General purpose",
    "gpuNum": 0,
    "hideHardwareSpecs": false,
    "memoryGiB": 64,
    "name": "ml.m5d.4xlarge",
    "vcpuNum": 16
   },
   {
    "_defaultOrder": 16,
    "_isFastLaunch": false,
    "category": "General purpose",
    "gpuNum": 0,
    "hideHardwareSpecs": false,
    "memoryGiB": 128,
    "name": "ml.m5d.8xlarge",
    "vcpuNum": 32
   },
   {
    "_defaultOrder": 17,
    "_isFastLaunch": false,
    "category": "General purpose",
    "gpuNum": 0,
    "hideHardwareSpecs": false,
    "memoryGiB": 192,
    "name": "ml.m5d.12xlarge",
    "vcpuNum": 48
   },
   {
    "_defaultOrder": 18,
    "_isFastLaunch": false,
    "category": "General purpose",
    "gpuNum": 0,
    "hideHardwareSpecs": false,
    "memoryGiB": 256,
    "name": "ml.m5d.16xlarge",
    "vcpuNum": 64
   },
   {
    "_defaultOrder": 19,
    "_isFastLaunch": false,
    "category": "General purpose",
    "gpuNum": 0,
    "hideHardwareSpecs": false,
    "memoryGiB": 384,
    "name": "ml.m5d.24xlarge",
    "vcpuNum": 96
   },
   {
    "_defaultOrder": 20,
    "_isFastLaunch": false,
    "category": "General purpose",
    "gpuNum": 0,
    "hideHardwareSpecs": true,
    "memoryGiB": 0,
    "name": "ml.geospatial.interactive",
    "supportedImageNames": [
     "sagemaker-geospatial-v1-0"
    ],
    "vcpuNum": 0
   },
   {
    "_defaultOrder": 21,
    "_isFastLaunch": true,
    "category": "Compute optimized",
    "gpuNum": 0,
    "hideHardwareSpecs": false,
    "memoryGiB": 4,
    "name": "ml.c5.large",
    "vcpuNum": 2
   },
   {
    "_defaultOrder": 22,
    "_isFastLaunch": false,
    "category": "Compute optimized",
    "gpuNum": 0,
    "hideHardwareSpecs": false,
    "memoryGiB": 8,
    "name": "ml.c5.xlarge",
    "vcpuNum": 4
   },
   {
    "_defaultOrder": 23,
    "_isFastLaunch": false,
    "category": "Compute optimized",
    "gpuNum": 0,
    "hideHardwareSpecs": false,
    "memoryGiB": 16,
    "name": "ml.c5.2xlarge",
    "vcpuNum": 8
   },
   {
    "_defaultOrder": 24,
    "_isFastLaunch": false,
    "category": "Compute optimized",
    "gpuNum": 0,
    "hideHardwareSpecs": false,
    "memoryGiB": 32,
    "name": "ml.c5.4xlarge",
    "vcpuNum": 16
   },
   {
    "_defaultOrder": 25,
    "_isFastLaunch": false,
    "category": "Compute optimized",
    "gpuNum": 0,
    "hideHardwareSpecs": false,
    "memoryGiB": 72,
    "name": "ml.c5.9xlarge",
    "vcpuNum": 36
   },
   {
    "_defaultOrder": 26,
    "_isFastLaunch": false,
    "category": "Compute optimized",
    "gpuNum": 0,
    "hideHardwareSpecs": false,
    "memoryGiB": 96,
    "name": "ml.c5.12xlarge",
    "vcpuNum": 48
   },
   {
    "_defaultOrder": 27,
    "_isFastLaunch": false,
    "category": "Compute optimized",
    "gpuNum": 0,
    "hideHardwareSpecs": false,
    "memoryGiB": 144,
    "name": "ml.c5.18xlarge",
    "vcpuNum": 72
   },
   {
    "_defaultOrder": 28,
    "_isFastLaunch": false,
    "category": "Compute optimized",
    "gpuNum": 0,
    "hideHardwareSpecs": false,
    "memoryGiB": 192,
    "name": "ml.c5.24xlarge",
    "vcpuNum": 96
   },
   {
    "_defaultOrder": 29,
    "_isFastLaunch": true,
    "category": "Accelerated computing",
    "gpuNum": 1,
    "hideHardwareSpecs": false,
    "memoryGiB": 16,
    "name": "ml.g4dn.xlarge",
    "vcpuNum": 4
   },
   {
    "_defaultOrder": 30,
    "_isFastLaunch": false,
    "category": "Accelerated computing",
    "gpuNum": 1,
    "hideHardwareSpecs": false,
    "memoryGiB": 32,
    "name": "ml.g4dn.2xlarge",
    "vcpuNum": 8
   },
   {
    "_defaultOrder": 31,
    "_isFastLaunch": false,
    "category": "Accelerated computing",
    "gpuNum": 1,
    "hideHardwareSpecs": false,
    "memoryGiB": 64,
    "name": "ml.g4dn.4xlarge",
    "vcpuNum": 16
   },
   {
    "_defaultOrder": 32,
    "_isFastLaunch": false,
    "category": "Accelerated computing",
    "gpuNum": 1,
    "hideHardwareSpecs": false,
    "memoryGiB": 128,
    "name": "ml.g4dn.8xlarge",
    "vcpuNum": 32
   },
   {
    "_defaultOrder": 33,
    "_isFastLaunch": false,
    "category": "Accelerated computing",
    "gpuNum": 4,
    "hideHardwareSpecs": false,
    "memoryGiB": 192,
    "name": "ml.g4dn.12xlarge",
    "vcpuNum": 48
   },
   {
    "_defaultOrder": 34,
    "_isFastLaunch": false,
    "category": "Accelerated computing",
    "gpuNum": 1,
    "hideHardwareSpecs": false,
    "memoryGiB": 256,
    "name": "ml.g4dn.16xlarge",
    "vcpuNum": 64
   },
   {
    "_defaultOrder": 35,
    "_isFastLaunch": false,
    "category": "Accelerated computing",
    "gpuNum": 1,
    "hideHardwareSpecs": false,
    "memoryGiB": 61,
    "name": "ml.p3.2xlarge",
    "vcpuNum": 8
   },
   {
    "_defaultOrder": 36,
    "_isFastLaunch": false,
    "category": "Accelerated computing",
    "gpuNum": 4,
    "hideHardwareSpecs": false,
    "memoryGiB": 244,
    "name": "ml.p3.8xlarge",
    "vcpuNum": 32
   },
   {
    "_defaultOrder": 37,
    "_isFastLaunch": false,
    "category": "Accelerated computing",
    "gpuNum": 8,
    "hideHardwareSpecs": false,
    "memoryGiB": 488,
    "name": "ml.p3.16xlarge",
    "vcpuNum": 64
   },
   {
    "_defaultOrder": 38,
    "_isFastLaunch": false,
    "category": "Accelerated computing",
    "gpuNum": 8,
    "hideHardwareSpecs": false,
    "memoryGiB": 768,
    "name": "ml.p3dn.24xlarge",
    "vcpuNum": 96
   },
   {
    "_defaultOrder": 39,
    "_isFastLaunch": false,
    "category": "Memory Optimized",
    "gpuNum": 0,
    "hideHardwareSpecs": false,
    "memoryGiB": 16,
    "name": "ml.r5.large",
    "vcpuNum": 2
   },
   {
    "_defaultOrder": 40,
    "_isFastLaunch": false,
    "category": "Memory Optimized",
    "gpuNum": 0,
    "hideHardwareSpecs": false,
    "memoryGiB": 32,
    "name": "ml.r5.xlarge",
    "vcpuNum": 4
   },
   {
    "_defaultOrder": 41,
    "_isFastLaunch": false,
    "category": "Memory Optimized",
    "gpuNum": 0,
    "hideHardwareSpecs": false,
    "memoryGiB": 64,
    "name": "ml.r5.2xlarge",
    "vcpuNum": 8
   },
   {
    "_defaultOrder": 42,
    "_isFastLaunch": false,
    "category": "Memory Optimized",
    "gpuNum": 0,
    "hideHardwareSpecs": false,
    "memoryGiB": 128,
    "name": "ml.r5.4xlarge",
    "vcpuNum": 16
   },
   {
    "_defaultOrder": 43,
    "_isFastLaunch": false,
    "category": "Memory Optimized",
    "gpuNum": 0,
    "hideHardwareSpecs": false,
    "memoryGiB": 256,
    "name": "ml.r5.8xlarge",
    "vcpuNum": 32
   },
   {
    "_defaultOrder": 44,
    "_isFastLaunch": false,
    "category": "Memory Optimized",
    "gpuNum": 0,
    "hideHardwareSpecs": false,
    "memoryGiB": 384,
    "name": "ml.r5.12xlarge",
    "vcpuNum": 48
   },
   {
    "_defaultOrder": 45,
    "_isFastLaunch": false,
    "category": "Memory Optimized",
    "gpuNum": 0,
    "hideHardwareSpecs": false,
    "memoryGiB": 512,
    "name": "ml.r5.16xlarge",
    "vcpuNum": 64
   },
   {
    "_defaultOrder": 46,
    "_isFastLaunch": false,
    "category": "Memory Optimized",
    "gpuNum": 0,
    "hideHardwareSpecs": false,
    "memoryGiB": 768,
    "name": "ml.r5.24xlarge",
    "vcpuNum": 96
   },
   {
    "_defaultOrder": 47,
    "_isFastLaunch": false,
    "category": "Accelerated computing",
    "gpuNum": 1,
    "hideHardwareSpecs": false,
    "memoryGiB": 16,
    "name": "ml.g5.xlarge",
    "vcpuNum": 4
   },
   {
    "_defaultOrder": 48,
    "_isFastLaunch": false,
    "category": "Accelerated computing",
    "gpuNum": 1,
    "hideHardwareSpecs": false,
    "memoryGiB": 32,
    "name": "ml.g5.2xlarge",
    "vcpuNum": 8
   },
   {
    "_defaultOrder": 49,
    "_isFastLaunch": false,
    "category": "Accelerated computing",
    "gpuNum": 1,
    "hideHardwareSpecs": false,
    "memoryGiB": 64,
    "name": "ml.g5.4xlarge",
    "vcpuNum": 16
   },
   {
    "_defaultOrder": 50,
    "_isFastLaunch": false,
    "category": "Accelerated computing",
    "gpuNum": 1,
    "hideHardwareSpecs": false,
    "memoryGiB": 128,
    "name": "ml.g5.8xlarge",
    "vcpuNum": 32
   },
   {
    "_defaultOrder": 51,
    "_isFastLaunch": false,
    "category": "Accelerated computing",
    "gpuNum": 1,
    "hideHardwareSpecs": false,
    "memoryGiB": 256,
    "name": "ml.g5.16xlarge",
    "vcpuNum": 64
   },
   {
    "_defaultOrder": 52,
    "_isFastLaunch": false,
    "category": "Accelerated computing",
    "gpuNum": 4,
    "hideHardwareSpecs": false,
    "memoryGiB": 192,
    "name": "ml.g5.12xlarge",
    "vcpuNum": 48
   },
   {
    "_defaultOrder": 53,
    "_isFastLaunch": false,
    "category": "Accelerated computing",
    "gpuNum": 4,
    "hideHardwareSpecs": false,
    "memoryGiB": 384,
    "name": "ml.g5.24xlarge",
    "vcpuNum": 96
   },
   {
    "_defaultOrder": 54,
    "_isFastLaunch": false,
    "category": "Accelerated computing",
    "gpuNum": 8,
    "hideHardwareSpecs": false,
    "memoryGiB": 768,
    "name": "ml.g5.48xlarge",
    "vcpuNum": 192
   },
   {
    "_defaultOrder": 55,
    "_isFastLaunch": false,
    "category": "Accelerated computing",
    "gpuNum": 8,
    "hideHardwareSpecs": false,
    "memoryGiB": 1152,
    "name": "ml.p4d.24xlarge",
    "vcpuNum": 96
   },
   {
    "_defaultOrder": 56,
    "_isFastLaunch": false,
    "category": "Accelerated computing",
    "gpuNum": 8,
    "hideHardwareSpecs": false,
    "memoryGiB": 1152,
    "name": "ml.p4de.24xlarge",
    "vcpuNum": 96
   },
   {
    "_defaultOrder": 57,
    "_isFastLaunch": false,
    "category": "Accelerated computing",
    "gpuNum": 0,
    "hideHardwareSpecs": false,
    "memoryGiB": 32,
    "name": "ml.trn1.2xlarge",
    "vcpuNum": 8
   },
   {
    "_defaultOrder": 58,
    "_isFastLaunch": false,
    "category": "Accelerated computing",
    "gpuNum": 0,
    "hideHardwareSpecs": false,
    "memoryGiB": 512,
    "name": "ml.trn1.32xlarge",
    "vcpuNum": 128
   },
   {
    "_defaultOrder": 59,
    "_isFastLaunch": false,
    "category": "Accelerated computing",
    "gpuNum": 0,
    "hideHardwareSpecs": false,
    "memoryGiB": 512,
    "name": "ml.trn1n.32xlarge",
    "vcpuNum": 128
   }
  ],
  "instance_type": "ml.m5.large",
  "kernelspec": {
   "display_name": "Python 3 (Data Science 3.0)",
   "language": "python",
   "name": "python3__SAGEMAKER_INTERNAL__arn:aws:sagemaker:us-east-1:081325390199:image/sagemaker-data-science-310-v1"
  },
  "language_info": {
   "codemirror_mode": {
    "name": "ipython",
    "version": 3
   },
   "file_extension": ".py",
   "mimetype": "text/x-python",
   "name": "python",
   "nbconvert_exporter": "python",
   "pygments_lexer": "ipython3",
   "version": "3.10.6"
  }
 },
 "nbformat": 4,
 "nbformat_minor": 5
}
